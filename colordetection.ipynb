{
  "cells": [
    {
      "cell_type": "code",
      "execution_count": null,
      "metadata": {
        "id": "zEjBK9PGDN89"
      },
      "outputs": [],
      "source": [
        "import pandas as pd\n",
        "import cv2 # To detect color at particular pixel\n",
        "from google.colab.patches import cv2_imshow"
      ]
    },
    {
      "cell_type": "code",
      "execution_count": null,
      "metadata": {
        "id": "qiXq7YtRJKKt"
      },
      "outputs": [],
      "source": [
        "img_path = 'pic2.jpg'\n",
        "csv_path = 'colors.csv'"
      ]
    },
    {
      "cell_type": "code",
      "execution_count": null,
      "metadata": {
        "colab": {
          "base_uri": "https://localhost:8080/"
        },
        "id": "LeActWTeJzPB",
        "outputId": "3f6495e8-d3c4-43a1-d681-93dd1f22f6ef"
      },
      "outputs": [
        {
          "output_type": "stream",
          "name": "stdout",
          "text": [
            "                  color             color_name      hex    R    G    B\n",
            "0    air_force_blue_raf   Air Force Blue (Raf)  #5d8aa8   93  138  168\n",
            "1   air_force_blue_usaf  Air Force Blue (Usaf)  #00308f    0   48  143\n",
            "2  air_superiority_blue   Air Superiority Blue  #72a0c1  114  160  193\n",
            "3       alabama_crimson        Alabama Crimson  #a32638  163   38   56\n",
            "4            alice_blue             Alice Blue  #f0f8ff  240  248  255\n"
          ]
        }
      ],
      "source": [
        "index=['color' , 'color_name', 'hex' , 'R' , 'G' , 'B']\n",
        "df= pd.read_csv(csv_path,names = index , header =None )\n",
        "print(df.head())"
      ]
    },
    {
      "cell_type": "code",
      "execution_count": null,
      "metadata": {
        "colab": {
          "base_uri": "https://localhost:8080/"
        },
        "id": "OvAJtqOFLfzn",
        "outputId": "188b46ad-1541-43a0-fd69-bef3619cfc77"
      },
      "outputs": [
        {
          "output_type": "stream",
          "name": "stdout",
          "text": [
            "865\n",
            "color         air_superiority_blue\n",
            "color_name    Air Superiority Blue\n",
            "hex                        #72a0c1\n",
            "R                              114\n",
            "G                              160\n",
            "B                              193\n",
            "Name: 2, dtype: object\n",
            "#72a0c1\n"
          ]
        }
      ],
      "source": [
        "print(len(df)) # print total no. of rows in dataframe\n",
        "print(df.loc[2]) # print particular row at particular index\n",
        "print(df.loc[2,'hex']) # print particular column(column name) of the row at particular index"
      ]
    },
    {
      "cell_type": "code",
      "execution_count": null,
      "metadata": {
        "id": "YoPU-iEPMAJf"
      },
      "outputs": [],
      "source": [
        "# reading image\n",
        "img = cv2.imread(img_path)\n",
        "img = cv2.resize(img, (800,600))"
      ]
    },
    {
      "cell_type": "code",
      "execution_count": null,
      "metadata": {
        "id": "etK0CohWNmt7"
      },
      "outputs": [],
      "source": [
        "#declaring global variables\n",
        "clicked = False\n",
        "r = g = b = xpos = ypos = 0"
      ]
    },
    {
      "cell_type": "code",
      "execution_count": null,
      "metadata": {
        "id": "LZt_-fMvxn1J"
      },
      "outputs": [],
      "source": [
        "#function to calculate minimum distance from all colors and get the most matching color\n",
        "def get_color_name(R,G,B):\n",
        "\tminimum = 1000\n",
        "\tfor i in range(len(df)):\n",
        "\t\td = abs(R - int(df.loc[i,'R'])) + abs(G - int(df.loc[i,'G'])) + abs(B - int(df.loc[i,'B']))\n",
        "\t\tif d <= minimum:\n",
        "\t\t\tminimum = d\n",
        "\t\t\tcname = df.loc[i, 'color_name']\n",
        "\n",
        "\treturn cname"
      ]
    },
    {
      "cell_type": "code",
      "execution_count": null,
      "metadata": {
        "id": "LvNSf1L-xrXY"
      },
      "outputs": [],
      "source": [
        "#function to get x,y coordinates of mouse double click\n",
        "def draw_function(event, x, y, flags, params):\n",
        "\tif event == cv2.EVENT_LBUTTONDBLCLK:\n",
        "\t\tglobal b, g, r, xpos, ypos, clicked\n",
        "\t\tclicked = True\n",
        "\t\txpos = x\n",
        "\t\typos = y\n",
        "\t\tb,g,r = img[y,x]\n",
        "\t\tb = int(b)\n",
        "\t\tg = int(g)\n",
        "\t\tr = int(r)"
      ]
    },
    {
      "cell_type": "code",
      "execution_count": null,
      "metadata": {
        "colab": {
          "base_uri": "https://localhost:8080/",
          "height": 245
        },
        "id": "9zwaxB5HxzYj",
        "outputId": "07f16c2c-2348-48c4-9594-5c45254f440c"
      },
      "outputs": [
        {
          "output_type": "error",
          "ename": "NameError",
          "evalue": "ignored",
          "traceback": [
            "\u001b[0;31m---------------------------------------------------------------------------\u001b[0m",
            "\u001b[0;31mNameError\u001b[0m                                 Traceback (most recent call last)",
            "\u001b[0;32m<ipython-input-1-9f3ba45c19ad>\u001b[0m in \u001b[0;36m<cell line: 2>\u001b[0;34m()\u001b[0m\n\u001b[1;32m      1\u001b[0m \u001b[0;31m#creating window\u001b[0m\u001b[0;34m\u001b[0m\u001b[0;34m\u001b[0m\u001b[0m\n\u001b[0;32m----> 2\u001b[0;31m \u001b[0mcv2\u001b[0m\u001b[0;34m.\u001b[0m\u001b[0mnamedWindow\u001b[0m\u001b[0;34m(\u001b[0m\u001b[0;34m'image'\u001b[0m\u001b[0;34m)\u001b[0m\u001b[0;34m\u001b[0m\u001b[0;34m\u001b[0m\u001b[0m\n\u001b[0m\u001b[1;32m      3\u001b[0m \u001b[0mcv2\u001b[0m\u001b[0;34m.\u001b[0m\u001b[0msetMouseCallback\u001b[0m\u001b[0;34m(\u001b[0m\u001b[0;34m'image'\u001b[0m\u001b[0;34m,\u001b[0m \u001b[0mdraw_function\u001b[0m\u001b[0;34m)\u001b[0m\u001b[0;34m\u001b[0m\u001b[0;34m\u001b[0m\u001b[0m\n\u001b[1;32m      4\u001b[0m \u001b[0mimg\u001b[0m \u001b[0;34m=\u001b[0m \u001b[0mcv2\u001b[0m\u001b[0;34m.\u001b[0m\u001b[0mimread\u001b[0m\u001b[0;34m(\u001b[0m\u001b[0mimg_path\u001b[0m\u001b[0;34m)\u001b[0m\u001b[0;34m\u001b[0m\u001b[0;34m\u001b[0m\u001b[0m\n\u001b[1;32m      5\u001b[0m \u001b[0mclicked\u001b[0m \u001b[0;34m=\u001b[0m \u001b[0;32mFalse\u001b[0m\u001b[0;34m\u001b[0m\u001b[0;34m\u001b[0m\u001b[0m\n",
            "\u001b[0;31mNameError\u001b[0m: name 'cv2' is not defined"
          ]
        }
      ],
      "source": [
        "#creating window\n",
        "cv2.namedWindow('image')\n",
        "cv2.setMouseCallback('image', draw_function)\n",
        "img = cv2.imread(img_path)\n",
        "clicked = False\n",
        "while True:\n",
        "\tcv2_imshow(img)\n",
        "\tif clicked:\n",
        "\t\t#cv2.rectangle(image, startpoint, endpoint, color, thickness)-1 fills entire rectangle\n",
        "\t\tcv2.rectangle(img, (20,20), (600,60), (b,g,r), -1)\n",
        "\n",
        "\t\t#Creating text string to display( Color name and RGB values )\n",
        "\t\ttext = get_color_name(r,g,b) + ' R=' + str(r) + ' G=' + str(g) + ' B=' + str(b)\n",
        "\t\t#cv2.putText(img,text,start,font(0-7),fontScale,color,thickness,lineType )\n",
        "\t\tcv2.putText(img, text, (50,50), 2,0.8, (255,255,255),2,cv2.LINE_AA)\n",
        "\n",
        "\t\t#For very light colours we will display text in black colour\n",
        "\t\tif r+g+b >=600:\n",
        "\t\t\tcv2.putText(img, text, (50,50), 2,0.8, (0,0,0),2,cv2.LINE_AA)\n",
        "\n",
        "\tif cv2.waitKey(20) & 0xFF == 27:\n",
        "\t\tbreak\n",
        "\n",
        "cv2.destroyAllWindows()\n"
      ]
    }
  ],
  "metadata": {
    "colab": {
      "provenance": [],
      "toc_visible": true
    },
    "kernelspec": {
      "display_name": "Python 3",
      "name": "python3"
    },
    "language_info": {
      "name": "python"
    }
  },
  "nbformat": 4,
  "nbformat_minor": 0
}